{
 "cells": [
  {
   "cell_type": "code",
   "execution_count": 1,
   "metadata": {},
   "outputs": [],
   "source": [
    "import numpy as np\n",
    "import pandas as pd\n",
    "import random as rn\n",
    "import matplotlib.pyplot as plt"
   ]
  },
  {
   "cell_type": "code",
   "execution_count": 128,
   "metadata": {},
   "outputs": [
    {
     "data": {
      "text/plain": [
       "[array([ 38, 283]),\n",
       " array([131,  44]),\n",
       " array([514, 508]),\n",
       " array([391,  41]),\n",
       " array([625, 545]),\n",
       " array([ 87, 443]),\n",
       " array([178, 556]),\n",
       " array([536, 576]),\n",
       " array([447,  18]),\n",
       " array([302, 104]),\n",
       " array([546, 168]),\n",
       " array([223, 595]),\n",
       " array([26, 27]),\n",
       " array([529,  87]),\n",
       " array([421, 604]),\n",
       " array([385, 460]),\n",
       " array([503, 129]),\n",
       " array([527, 198]),\n",
       " array([616,  46]),\n",
       " array([442, 202]),\n",
       " array([ 74, 539]),\n",
       " array([ 16, 390]),\n",
       " array([686, 287]),\n",
       " array([504, 378]),\n",
       " array([189, 296]),\n",
       " array([371, 632]),\n",
       " array([249, 685]),\n",
       " array([ 34, 569]),\n",
       " array([141, 118]),\n",
       " array([533, 145]),\n",
       " array([567, 697]),\n",
       " array([392,  30]),\n",
       " array([320, 543]),\n",
       " array([423,  31]),\n",
       " array([127, 147]),\n",
       " array([186, 553]),\n",
       " array([578, 646]),\n",
       " array([588, 518]),\n",
       " array([534,   8]),\n",
       " array([441, 591]),\n",
       " array([  2, 387]),\n",
       " array([158, 186]),\n",
       " array([169, 696]),\n",
       " array([163, 352]),\n",
       " array([173,  89]),\n",
       " array([136, 502]),\n",
       " array([333, 380]),\n",
       " array([ 40, 354]),\n",
       " array([382, 445]),\n",
       " array([ 70, 663]),\n",
       " array([625, 242]),\n",
       " array([474, 329]),\n",
       " array([523, 100]),\n",
       " array([565, 224]),\n",
       " array([92, 17]),\n",
       " array([225,  33]),\n",
       " array([682, 675]),\n",
       " array([564, 310]),\n",
       " array([379, 306]),\n",
       " array([242, 415]),\n",
       " array([431, 281]),\n",
       " array([257, 206]),\n",
       " array([659, 272]),\n",
       " array([505, 597]),\n",
       " array([351, 162]),\n",
       " array([170, 100]),\n",
       " array([ 37, 513]),\n",
       " array([124, 448]),\n",
       " array([564, 612]),\n",
       " array([364, 674]),\n",
       " array([615, 285]),\n",
       " array([ 61, 188]),\n",
       " array([646, 292]),\n",
       " array([ 94, 473]),\n",
       " array([511, 193]),\n",
       " array([584, 500]),\n",
       " array([615, 332]),\n",
       " array([597, 614]),\n",
       " array([419, 109]),\n",
       " array([280, 576]),\n",
       " array([335, 670]),\n",
       " array([106, 343]),\n",
       " array([267, 163]),\n",
       " array([671,  49]),\n",
       " array([432, 263]),\n",
       " array([596, 670]),\n",
       " array([110, 180]),\n",
       " array([455,  49]),\n",
       " array([649,  11]),\n",
       " array([337, 681]),\n",
       " array([174,  25]),\n",
       " array([ 36, 295]),\n",
       " array([668, 510]),\n",
       " array([620, 512]),\n",
       " array([641, 245]),\n",
       " array([327, 315]),\n",
       " array([279, 545]),\n",
       " array([645, 320]),\n",
       " array([616, 578]),\n",
       " array([418, 130])]"
      ]
     },
     "execution_count": 128,
     "metadata": {},
     "output_type": "execute_result"
    }
   ],
   "source": [
    "x=[]\n",
    "for i in range(100):\n",
    "    x.append(np.random.randint(0,700,2)) #generates random 2 element array with values between 0 and 700\n",
    "x"
   ]
  },
  {
   "cell_type": "code",
   "execution_count": 129,
   "metadata": {},
   "outputs": [],
   "source": [
    "x_np=np.asarray(x)"
   ]
  },
  {
   "cell_type": "code",
   "execution_count": 130,
   "metadata": {},
   "outputs": [
    {
     "data": {
      "text/plain": [
       "array([ 38, 131, 514, 391, 625,  87, 178, 536, 447, 302, 546, 223,  26,\n",
       "       529, 421, 385, 503, 527, 616, 442,  74,  16, 686, 504, 189, 371,\n",
       "       249,  34, 141, 533, 567, 392, 320, 423, 127, 186, 578, 588, 534,\n",
       "       441,   2, 158, 169, 163, 173, 136, 333,  40, 382,  70, 625, 474,\n",
       "       523, 565,  92, 225, 682, 564, 379, 242, 431, 257, 659, 505, 351,\n",
       "       170,  37, 124, 564, 364, 615,  61, 646,  94, 511, 584, 615, 597,\n",
       "       419, 280, 335, 106, 267, 671, 432, 596, 110, 455, 649, 337, 174,\n",
       "        36, 668, 620, 641, 327, 279, 645, 616, 418])"
      ]
     },
     "execution_count": 130,
     "metadata": {},
     "output_type": "execute_result"
    }
   ],
   "source": [
    "x_np[:,0]"
   ]
  },
  {
   "cell_type": "code",
   "execution_count": 131,
   "metadata": {},
   "outputs": [
    {
     "data": {
      "text/plain": [
       "<matplotlib.collections.PathCollection at 0x7f07a8a090b8>"
      ]
     },
     "execution_count": 131,
     "metadata": {},
     "output_type": "execute_result"
    },
    {
     "data": {
      "image/png": "[encoded data removed]",
      "text/plain": [
       "<Figure size 432x288 with 1 Axes>"
      ]
     },
     "metadata": {
      "needs_background": "light"
     },
     "output_type": "display_data"
    }
   ],
   "source": [
    "plt.scatter(x_np[:,0],x_np[:,1])"
   ]
  },
  {
   "cell_type": "markdown",
   "metadata": {},
   "source": [
    "### K means"
   ]
  },
  {
   "cell_type": "code",
   "execution_count": 132,
   "metadata": {},
   "outputs": [],
   "source": [
    "def distance(x,y):\n",
    "    return(np.linalg.norm(x-y))"
   ]
  },
  {
   "cell_type": "code",
   "execution_count": 133,
   "metadata": {},
   "outputs": [],
   "source": [
    "def initial_seeds_selection(x,k):\n",
    "    seeds=[]\n",
    "    max_dis=0\n",
    "    seeds.append(rn.choice(x))\n",
    "    for i in range(k-1):\n",
    "        for j in range(len(x)):\n",
    "            dis=distance(seeds[len(seeds)-1],x[j])\n",
    "            if(dis>max_dis):\n",
    "                max_dis=dis\n",
    "                pt=x[j]\n",
    "        seeds.append(pt)\n",
    "    return(seeds)"
   ]
  },
  {
   "cell_type": "code",
   "execution_count": 134,
   "metadata": {},
   "outputs": [],
   "source": [
    "seeds=initial_seeds_selection(x,3)"
   ]
  },
  {
   "cell_type": "code",
   "execution_count": 135,
   "metadata": {},
   "outputs": [
    {
     "data": {
      "text/plain": [
       "[array([ 40, 354]), array([682, 675]), array([26, 27])]"
      ]
     },
     "execution_count": 135,
     "metadata": {},
     "output_type": "execute_result"
    }
   ],
   "source": [
    "seeds"
   ]
  },
  {
   "cell_type": "code",
   "execution_count": 136,
   "metadata": {},
   "outputs": [],
   "source": [
    "def kmeans(x,k,maxiter):\n",
    "    a=[] #the centroid array\n",
    "    dm=np.zeros((k,len(x)))#initialize distance matrix\n",
    "    a = initial_seeds_selection(x,k)  #to select k random data points as initial seeds\n",
    "    for itervar in range(maxiter):\n",
    "        cls=[] #cluster array\n",
    "        for i in range(k):\n",
    "            cls.append([]) #initialize cluster array of k arrays\n",
    "        for i in range(len(a)):\n",
    "            for j in range(len(x)):\n",
    "                    dm[i][j]=distance(a[i],x[j]) #distance matrix generation\n",
    "        for i in range(len(dm)):\n",
    "            for j in range(len(x)):\n",
    "                if((min(dm[:,j:j+1])==dm[i][j])):\n",
    "                    cls[i].append(x[j]) #appending minimum distance data point to corresponding cluster  \n",
    "        for i in range(k):\n",
    "            a[i]=np.array(cls[i]).mean(axis=0) #assign corresponding meanpoint as the new centroid\n",
    "    return(cls)"
   ]
  },
  {
   "cell_type": "code",
   "execution_count": 137,
   "metadata": {},
   "outputs": [],
   "source": [
    "cls=kmeans(x,5,10)"
   ]
  },
  {
   "cell_type": "code",
   "execution_count": 161,
   "metadata": {},
   "outputs": [
    {
     "data": {
      "text/plain": [
       "[[array([ 38, 283]),\n",
       "  array([ 87, 443]),\n",
       "  array([178, 556]),\n",
       "  array([223, 595]),\n",
       "  array([ 74, 539]),\n",
       "  array([ 16, 390]),\n",
       "  array([189, 296]),\n",
       "  array([371, 632]),\n",
       "  array([249, 685]),\n",
       "  array([ 34, 569]),\n",
       "  array([320, 543]),\n",
       "  array([186, 553]),\n",
       "  array([  2, 387]),\n",
       "  array([169, 696]),\n",
       "  array([163, 352]),\n",
       "  array([136, 502]),\n",
       "  array([333, 380]),\n",
       "  array([ 40, 354]),\n",
       "  array([ 70, 663]),\n",
       "  array([242, 415]),\n",
       "  array([ 37, 513]),\n",
       "  array([124, 448]),\n",
       "  array([364, 674]),\n",
       "  array([ 94, 473]),\n",
       "  array([280, 576]),\n",
       "  array([335, 670]),\n",
       "  array([106, 343]),\n",
       "  array([337, 681]),\n",
       "  array([ 36, 295]),\n",
       "  array([279, 545])],\n",
       " [array([131,  44]),\n",
       "  array([391,  41]),\n",
       "  array([447,  18]),\n",
       "  array([302, 104]),\n",
       "  array([546, 168]),\n",
       "  array([26, 27]),\n",
       "  array([529,  87]),\n",
       "  array([503, 129]),\n",
       "  array([527, 198]),\n",
       "  array([616,  46]),\n",
       "  array([442, 202]),\n",
       "  array([141, 118]),\n",
       "  array([533, 145]),\n",
       "  array([392,  30]),\n",
       "  array([423,  31]),\n",
       "  array([127, 147]),\n",
       "  array([534,   8]),\n",
       "  array([158, 186]),\n",
       "  array([173,  89]),\n",
       "  array([523, 100]),\n",
       "  array([565, 224]),\n",
       "  array([92, 17]),\n",
       "  array([225,  33]),\n",
       "  array([379, 306]),\n",
       "  array([431, 281]),\n",
       "  array([257, 206]),\n",
       "  array([351, 162]),\n",
       "  array([170, 100]),\n",
       "  array([ 61, 188]),\n",
       "  array([511, 193]),\n",
       "  array([419, 109]),\n",
       "  array([267, 163]),\n",
       "  array([671,  49]),\n",
       "  array([432, 263]),\n",
       "  array([110, 180]),\n",
       "  array([455,  49]),\n",
       "  array([649,  11]),\n",
       "  array([174,  25]),\n",
       "  array([327, 315]),\n",
       "  array([418, 130])],\n",
       " [array([514, 508]),\n",
       "  array([625, 545]),\n",
       "  array([536, 576]),\n",
       "  array([421, 604]),\n",
       "  array([385, 460]),\n",
       "  array([686, 287]),\n",
       "  array([504, 378]),\n",
       "  array([567, 697]),\n",
       "  array([578, 646]),\n",
       "  array([588, 518]),\n",
       "  array([441, 591]),\n",
       "  array([382, 445]),\n",
       "  array([625, 242]),\n",
       "  array([474, 329]),\n",
       "  array([682, 675]),\n",
       "  array([564, 310]),\n",
       "  array([659, 272]),\n",
       "  array([505, 597]),\n",
       "  array([564, 612]),\n",
       "  array([615, 285]),\n",
       "  array([646, 292]),\n",
       "  array([584, 500]),\n",
       "  array([615, 332]),\n",
       "  array([597, 614]),\n",
       "  array([596, 670]),\n",
       "  array([668, 510]),\n",
       "  array([620, 512]),\n",
       "  array([641, 245]),\n",
       "  array([645, 320]),\n",
       "  array([616, 578])],\n",
       " [array([514, 508]),\n",
       "  array([625, 545]),\n",
       "  array([536, 576]),\n",
       "  array([421, 604]),\n",
       "  array([385, 460]),\n",
       "  array([686, 287]),\n",
       "  array([504, 378]),\n",
       "  array([567, 697]),\n",
       "  array([578, 646]),\n",
       "  array([588, 518]),\n",
       "  array([441, 591]),\n",
       "  array([382, 445]),\n",
       "  array([625, 242]),\n",
       "  array([474, 329]),\n",
       "  array([682, 675]),\n",
       "  array([564, 310]),\n",
       "  array([659, 272]),\n",
       "  array([505, 597]),\n",
       "  array([564, 612]),\n",
       "  array([615, 285]),\n",
       "  array([646, 292]),\n",
       "  array([584, 500]),\n",
       "  array([615, 332]),\n",
       "  array([597, 614]),\n",
       "  array([596, 670]),\n",
       "  array([668, 510]),\n",
       "  array([620, 512]),\n",
       "  array([641, 245]),\n",
       "  array([645, 320]),\n",
       "  array([616, 578])],\n",
       " [array([514, 508]),\n",
       "  array([625, 545]),\n",
       "  array([536, 576]),\n",
       "  array([421, 604]),\n",
       "  array([385, 460]),\n",
       "  array([686, 287]),\n",
       "  array([504, 378]),\n",
       "  array([567, 697]),\n",
       "  array([578, 646]),\n",
       "  array([588, 518]),\n",
       "  array([441, 591]),\n",
       "  array([382, 445]),\n",
       "  array([625, 242]),\n",
       "  array([474, 329]),\n",
       "  array([682, 675]),\n",
       "  array([564, 310]),\n",
       "  array([659, 272]),\n",
       "  array([505, 597]),\n",
       "  array([564, 612]),\n",
       "  array([615, 285]),\n",
       "  array([646, 292]),\n",
       "  array([584, 500]),\n",
       "  array([615, 332]),\n",
       "  array([597, 614]),\n",
       "  array([596, 670]),\n",
       "  array([668, 510]),\n",
       "  array([620, 512]),\n",
       "  array([641, 245]),\n",
       "  array([645, 320]),\n",
       "  array([616, 578])]]"
      ]
     },
     "execution_count": 161,
     "metadata": {},
     "output_type": "execute_result"
    }
   ],
   "source": [
    "cls"
   ]
  }
 ],
 "metadata": {
  "kernelspec": {
   "display_name": "Python 3",
   "language": "python",
   "name": "python3"
  },
  "language_info": {
   "codemirror_mode": {
    "name": "ipython",
    "version": 3
   },
   "file_extension": ".py",
   "mimetype": "text/x-python",
   "name": "python",
   "nbconvert_exporter": "python",
   "pygments_lexer": "ipython3",
   "version": "3.7.3"
  }
 },
 "nbformat": 4,
 "nbformat_minor": 2
}
