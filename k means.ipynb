{
 "cells": [
  {
   "cell_type": "code",
   "execution_count": 2,
   "metadata": {},
   "outputs": [],
   "source": [
    "import numpy as np\n",
    "import pandas as pd\n",
    "import random as rn\n",
    "import matplotlib.pyplot as plt"
   ]
  },
  {
   "cell_type": "code",
   "execution_count": 3,
   "metadata": {},
   "outputs": [
    {
     "data": {
      "text/plain": [
       "[array([685, 564]),\n",
       " array([ 37, 442]),\n",
       " array([676,  38]),\n",
       " array([471, 371]),\n",
       " array([452, 649]),\n",
       " array([657, 145]),\n",
       " array([541,  10]),\n",
       " array([383, 475]),\n",
       " array([222, 588]),\n",
       " array([237, 238]),\n",
       " array([603, 440]),\n",
       " array([ 44, 421]),\n",
       " array([610, 154]),\n",
       " array([474, 224]),\n",
       " array([695, 115]),\n",
       " array([502, 214]),\n",
       " array([320, 379]),\n",
       " array([448, 464]),\n",
       " array([462, 682]),\n",
       " array([664, 575]),\n",
       " array([ 19, 429]),\n",
       " array([422, 471]),\n",
       " array([ 27, 563]),\n",
       " array([163, 116]),\n",
       " array([588, 309]),\n",
       " array([230, 676]),\n",
       " array([572, 284]),\n",
       " array([391, 610]),\n",
       " array([  2, 375]),\n",
       " array([454, 175]),\n",
       " array([356, 436]),\n",
       " array([140, 596]),\n",
       " array([201,  53]),\n",
       " array([349, 258]),\n",
       " array([236, 312]),\n",
       " array([ 77, 345]),\n",
       " array([581, 634]),\n",
       " array([133, 575]),\n",
       " array([381, 658]),\n",
       " array([211, 387]),\n",
       " array([243,  30]),\n",
       " array([438, 604]),\n",
       " array([301, 304]),\n",
       " array([121, 440]),\n",
       " array([456,   1]),\n",
       " array([449, 425]),\n",
       " array([108, 294]),\n",
       " array([287, 351]),\n",
       " array([388, 185]),\n",
       " array([676, 522]),\n",
       " array([363, 507]),\n",
       " array([100, 583]),\n",
       " array([553, 605]),\n",
       " array([593, 208]),\n",
       " array([235, 434]),\n",
       " array([163, 436]),\n",
       " array([537, 498]),\n",
       " array([684, 472]),\n",
       " array([  0, 685]),\n",
       " array([557, 622]),\n",
       " array([377, 285]),\n",
       " array([262, 471]),\n",
       " array([ 29, 526]),\n",
       " array([201, 188]),\n",
       " array([121, 153]),\n",
       " array([500,  83]),\n",
       " array([169,  12]),\n",
       " array([123, 221]),\n",
       " array([195, 505]),\n",
       " array([ 84, 338]),\n",
       " array([130,  54]),\n",
       " array([288, 435]),\n",
       " array([538, 623]),\n",
       " array([369,  68]),\n",
       " array([621, 495]),\n",
       " array([389, 286]),\n",
       " array([554,  45]),\n",
       " array([534, 416]),\n",
       " array([382, 395]),\n",
       " array([198, 549]),\n",
       " array([535, 527]),\n",
       " array([285, 480]),\n",
       " array([425,  10]),\n",
       " array([383, 118]),\n",
       " array([ 29, 396]),\n",
       " array([521, 150]),\n",
       " array([317, 221]),\n",
       " array([662,  33]),\n",
       " array([507, 230]),\n",
       " array([253, 454]),\n",
       " array([608, 295]),\n",
       " array([666, 281]),\n",
       " array([373, 269]),\n",
       " array([363, 407]),\n",
       " array([297, 586]),\n",
       " array([433, 377]),\n",
       " array([193,  62]),\n",
       " array([135, 531]),\n",
       " array([328, 207]),\n",
       " array([83, 96])]"
      ]
     },
     "execution_count": 3,
     "metadata": {},
     "output_type": "execute_result"
    }
   ],
   "source": [
    "x=[]\n",
    "for i in range(100):\n",
    "    x.append(np.random.randint(0,700,2)) #generates random 2 element array with values between 0 and 700\n",
    "x"
   ]
  },
  {
   "cell_type": "code",
   "execution_count": 4,
   "metadata": {},
   "outputs": [],
   "source": [
    "x_np=np.asarray(x)"
   ]
  },
  {
   "cell_type": "code",
   "execution_count": 5,
   "metadata": {},
   "outputs": [
    {
     "data": {
      "text/plain": [
       "array([685,  37, 676, 471, 452, 657, 541, 383, 222, 237, 603,  44, 610,\n",
       "       474, 695, 502, 320, 448, 462, 664,  19, 422,  27, 163, 588, 230,\n",
       "       572, 391,   2, 454, 356, 140, 201, 349, 236,  77, 581, 133, 381,\n",
       "       211, 243, 438, 301, 121, 456, 449, 108, 287, 388, 676, 363, 100,\n",
       "       553, 593, 235, 163, 537, 684,   0, 557, 377, 262,  29, 201, 121,\n",
       "       500, 169, 123, 195,  84, 130, 288, 538, 369, 621, 389, 554, 534,\n",
       "       382, 198, 535, 285, 425, 383,  29, 521, 317, 662, 507, 253, 608,\n",
       "       666, 373, 363, 297, 433, 193, 135, 328,  83])"
      ]
     },
     "execution_count": 5,
     "metadata": {},
     "output_type": "execute_result"
    }
   ],
   "source": [
    "x_np[:,0]"
   ]
  },
  {
   "cell_type": "code",
   "execution_count": 6,
   "metadata": {},
   "outputs": [
    {
     "data": {
      "text/plain": [
       "<matplotlib.collections.PathCollection at 0x7f8c7dc37780>"
      ]
     },
     "execution_count": 6,
     "metadata": {},
     "output_type": "execute_result"
    },
    {
     "data": {
      "image/png": "[encoded data removed]",
      "text/plain": [
       "<Figure size 432x288 with 1 Axes>"
      ]
     },
     "metadata": {
      "needs_background": "light"
     },
     "output_type": "display_data"
    }
   ],
   "source": [
    "plt.scatter(x_np[:,0],x_np[:,1])"
   ]
  },
  {
   "cell_type": "markdown",
   "metadata": {},
   "source": [
    "### K means"
   ]
  },
  {
   "cell_type": "code",
   "execution_count": 7,
   "metadata": {},
   "outputs": [],
   "source": [
    "def distance(x,y):\n",
    "    return(np.linalg.norm(x-y))"
   ]
  },
  {
   "cell_type": "code",
   "execution_count": 8,
   "metadata": {},
   "outputs": [],
   "source": [
    "def initial_seeds_selection(x,k):\n",
    "    seeds=[]\n",
    "    max_dis=0\n",
    "    seeds.append(rn.choice(x))\n",
    "    for i in range(k-1):\n",
    "        for j in range(len(x)):\n",
    "            dis=distance(seeds[len(seeds)-1],x[j])\n",
    "            if(dis>max_dis):\n",
    "                max_dis=dis\n",
    "                pt=x[j]\n",
    "        seeds.append(pt)\n",
    "    return(seeds)"
   ]
  },
  {
   "cell_type": "code",
   "execution_count": 9,
   "metadata": {},
   "outputs": [],
   "source": [
    "seeds=initial_seeds_selection(x,3)"
   ]
  },
  {
   "cell_type": "code",
   "execution_count": 10,
   "metadata": {},
   "outputs": [
    {
     "data": {
      "text/plain": [
       "[array([195, 505]), array([676,  38]), array([  0, 685])]"
      ]
     },
     "execution_count": 10,
     "metadata": {},
     "output_type": "execute_result"
    }
   ],
   "source": [
    "seeds"
   ]
  },
  {
   "cell_type": "code",
   "execution_count": null,
   "metadata": {},
   "outputs": [],
   "source": [
    "def kmeans(x,k,maxiter):\n",
    "    a=[] #the centroid array\n",
    "    dm=np.zeros((k,len(x)))#initialize distance matrix\n",
    "    a = initial_seeds_selection(x,k)  #to select k random data points as initial seeds\n",
    "    for itervar in range(maxiter):\n",
    "        cls=[] #cluster array\n",
    "        for i in range(k):\n",
    "            cls.append([]) #initialize cluster array of k arrays\n",
    "        for i in range(len(a)):\n",
    "            for j in range(len(x)):\n",
    "                    dm[i][j]=distance(a[i],x[j]) #distance matrix generation\n",
    "        for i in range(len(dm)):\n",
    "            for j in range(len(x)):\n",
    "                if((min(dm[:,j:j+1])==dm[i][j])):\n",
    "                    cls[i].append(x[j]) #appending minimum distance data point to corresponding cluster  \n",
    "        for i in range(k):\n",
    "            a[i]=np.array(cls[i]).mean(axis=0) #assign corresponding meanpoint as the new centroid\n",
    "    return(cls)"
   ]
  }
 ],
 "metadata": {
  "kernelspec": {
   "display_name": "Python 3",
   "language": "python",
   "name": "python3"
  },
  "language_info": {
   "codemirror_mode": {
    "name": "ipython",
    "version": 3
   },
   "file_extension": ".py",
   "mimetype": "text/x-python",
   "name": "python",
   "nbconvert_exporter": "python",
   "pygments_lexer": "ipython3",
   "version": "3.7.3"
  }
 },
 "nbformat": 4,
 "nbformat_minor": 2
}
