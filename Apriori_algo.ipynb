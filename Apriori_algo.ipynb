{
 "cells": [
  {
   "cell_type": "code",
   "execution_count": 13,
   "metadata": {},
   "outputs": [],
   "source": [
    "import pandas as pd\n",
    "import numpy as np\n",
    "from itertools import combinations,chain"
   ]
  },
  {
   "cell_type": "code",
   "execution_count": 14,
   "metadata": {},
   "outputs": [],
   "source": [
    "df = pd.read_csv('GroceryStoreDataSet.csv',header= None,names=['items'])"
   ]
  },
  {
   "cell_type": "code",
   "execution_count": 15,
   "metadata": {},
   "outputs": [
    {
     "data": {
      "text/html": [
       "<div>\n",
       "<style scoped>\n",
       "    .dataframe tbody tr th:only-of-type {\n",
       "        vertical-align: middle;\n",
       "    }\n",
       "\n",
       "    .dataframe tbody tr th {\n",
       "        vertical-align: top;\n",
       "    }\n",
       "\n",
       "    .dataframe thead th {\n",
       "        text-align: right;\n",
       "    }\n",
       "</style>\n",
       "<table border=\"1\" class=\"dataframe\">\n",
       "  <thead>\n",
       "    <tr style=\"text-align: right;\">\n",
       "      <th></th>\n",
       "      <th>items</th>\n",
       "    </tr>\n",
       "  </thead>\n",
       "  <tbody>\n",
       "    <tr>\n",
       "      <th>0</th>\n",
       "      <td>MILK,BREAD,BISCUIT</td>\n",
       "    </tr>\n",
       "    <tr>\n",
       "      <th>1</th>\n",
       "      <td>BREAD,MILK,BISCUIT,CORNFLAKES</td>\n",
       "    </tr>\n",
       "    <tr>\n",
       "      <th>2</th>\n",
       "      <td>BREAD,TEA,BOURNVITA</td>\n",
       "    </tr>\n",
       "    <tr>\n",
       "      <th>3</th>\n",
       "      <td>JAM,MAGGI,BREAD,MILK</td>\n",
       "    </tr>\n",
       "    <tr>\n",
       "      <th>4</th>\n",
       "      <td>MAGGI,TEA,BISCUIT</td>\n",
       "    </tr>\n",
       "    <tr>\n",
       "      <th>5</th>\n",
       "      <td>BREAD,TEA,BOURNVITA</td>\n",
       "    </tr>\n",
       "    <tr>\n",
       "      <th>6</th>\n",
       "      <td>MAGGI,TEA,CORNFLAKES</td>\n",
       "    </tr>\n",
       "    <tr>\n",
       "      <th>7</th>\n",
       "      <td>MAGGI,BREAD,TEA,BISCUIT</td>\n",
       "    </tr>\n",
       "    <tr>\n",
       "      <th>8</th>\n",
       "      <td>JAM,MAGGI,BREAD,TEA</td>\n",
       "    </tr>\n",
       "    <tr>\n",
       "      <th>9</th>\n",
       "      <td>BREAD,MILK</td>\n",
       "    </tr>\n",
       "    <tr>\n",
       "      <th>10</th>\n",
       "      <td>COFFEE,COCK,BISCUIT,CORNFLAKES</td>\n",
       "    </tr>\n",
       "    <tr>\n",
       "      <th>11</th>\n",
       "      <td>COFFEE,COCK,BISCUIT,CORNFLAKES</td>\n",
       "    </tr>\n",
       "    <tr>\n",
       "      <th>12</th>\n",
       "      <td>COFFEE,SUGER,BOURNVITA</td>\n",
       "    </tr>\n",
       "    <tr>\n",
       "      <th>13</th>\n",
       "      <td>BREAD,COFFEE,COCK</td>\n",
       "    </tr>\n",
       "    <tr>\n",
       "      <th>14</th>\n",
       "      <td>BREAD,SUGER,BISCUIT</td>\n",
       "    </tr>\n",
       "    <tr>\n",
       "      <th>15</th>\n",
       "      <td>COFFEE,SUGER,CORNFLAKES</td>\n",
       "    </tr>\n",
       "    <tr>\n",
       "      <th>16</th>\n",
       "      <td>BREAD,SUGER,BOURNVITA</td>\n",
       "    </tr>\n",
       "    <tr>\n",
       "      <th>17</th>\n",
       "      <td>BREAD,COFFEE,SUGER</td>\n",
       "    </tr>\n",
       "    <tr>\n",
       "      <th>18</th>\n",
       "      <td>BREAD,COFFEE,SUGER</td>\n",
       "    </tr>\n",
       "    <tr>\n",
       "      <th>19</th>\n",
       "      <td>TEA,MILK,COFFEE,CORNFLAKES</td>\n",
       "    </tr>\n",
       "  </tbody>\n",
       "</table>\n",
       "</div>"
      ],
      "text/plain": [
       "                             items\n",
       "0               MILK,BREAD,BISCUIT\n",
       "1    BREAD,MILK,BISCUIT,CORNFLAKES\n",
       "2              BREAD,TEA,BOURNVITA\n",
       "3             JAM,MAGGI,BREAD,MILK\n",
       "4                MAGGI,TEA,BISCUIT\n",
       "5              BREAD,TEA,BOURNVITA\n",
       "6             MAGGI,TEA,CORNFLAKES\n",
       "7          MAGGI,BREAD,TEA,BISCUIT\n",
       "8              JAM,MAGGI,BREAD,TEA\n",
       "9                       BREAD,MILK\n",
       "10  COFFEE,COCK,BISCUIT,CORNFLAKES\n",
       "11  COFFEE,COCK,BISCUIT,CORNFLAKES\n",
       "12          COFFEE,SUGER,BOURNVITA\n",
       "13               BREAD,COFFEE,COCK\n",
       "14             BREAD,SUGER,BISCUIT\n",
       "15         COFFEE,SUGER,CORNFLAKES\n",
       "16           BREAD,SUGER,BOURNVITA\n",
       "17              BREAD,COFFEE,SUGER\n",
       "18              BREAD,COFFEE,SUGER\n",
       "19      TEA,MILK,COFFEE,CORNFLAKES"
      ]
     },
     "execution_count": 15,
     "metadata": {},
     "output_type": "execute_result"
    }
   ],
   "source": [
    "df"
   ]
  },
  {
   "cell_type": "code",
   "execution_count": 16,
   "metadata": {},
   "outputs": [],
   "source": [
    "x=[i.strip().split(',') for i in df['items']]"
   ]
  },
  {
   "cell_type": "code",
   "execution_count": 17,
   "metadata": {},
   "outputs": [
    {
     "data": {
      "text/plain": [
       "[['MILK', 'BREAD', 'BISCUIT'],\n",
       " ['BREAD', 'MILK', 'BISCUIT', 'CORNFLAKES'],\n",
       " ['BREAD', 'TEA', 'BOURNVITA'],\n",
       " ['JAM', 'MAGGI', 'BREAD', 'MILK'],\n",
       " ['MAGGI', 'TEA', 'BISCUIT'],\n",
       " ['BREAD', 'TEA', 'BOURNVITA'],\n",
       " ['MAGGI', 'TEA', 'CORNFLAKES'],\n",
       " ['MAGGI', 'BREAD', 'TEA', 'BISCUIT'],\n",
       " ['JAM', 'MAGGI', 'BREAD', 'TEA'],\n",
       " ['BREAD', 'MILK'],\n",
       " ['COFFEE', 'COCK', 'BISCUIT', 'CORNFLAKES'],\n",
       " ['COFFEE', 'COCK', 'BISCUIT', 'CORNFLAKES'],\n",
       " ['COFFEE', 'SUGER', 'BOURNVITA'],\n",
       " ['BREAD', 'COFFEE', 'COCK'],\n",
       " ['BREAD', 'SUGER', 'BISCUIT'],\n",
       " ['COFFEE', 'SUGER', 'CORNFLAKES'],\n",
       " ['BREAD', 'SUGER', 'BOURNVITA'],\n",
       " ['BREAD', 'COFFEE', 'SUGER'],\n",
       " ['BREAD', 'COFFEE', 'SUGER'],\n",
       " ['TEA', 'MILK', 'COFFEE', 'CORNFLAKES']]"
      ]
     },
     "execution_count": 17,
     "metadata": {},
     "output_type": "execute_result"
    }
   ],
   "source": [
    "x"
   ]
  },
  {
   "cell_type": "code",
   "execution_count": 18,
   "metadata": {},
   "outputs": [],
   "source": [
    "def c1(df):\n",
    "    x=[i.strip().split(',') for i in df['items']]\n",
    "    l=[]\n",
    "    for t in x:\n",
    "        for j in range(len(t)):\n",
    "            l.append(t[j])\n",
    "    return list(set(l))"
   ]
  },
  {
   "cell_type": "code",
   "execution_count": 19,
   "metadata": {},
   "outputs": [],
   "source": [
    "def freq_itemset(c1,sup): #for l1\n",
    "    count={}\n",
    "    freq=[]\n",
    "    for i in range(len(c1)):\n",
    "        ct=0\n",
    "        for j in range(len(x)):\n",
    "            if(c1[i] in x[j]):\n",
    "                ct=ct+1\n",
    "                count[c1[i]]=(ct)\n",
    "    freq=[i for i in count if count[i]>=sup]    \n",
    "    return freq"
   ]
  },
  {
   "cell_type": "code",
   "execution_count": 20,
   "metadata": {},
   "outputs": [],
   "source": [
    "def freq_items(ctuple,k,sup):\n",
    "    count={}\n",
    "    freq=[]\n",
    "    c2_set=[set(i) for i in ctuple]\n",
    "    for i in range(len(ctuple)):\n",
    "        ct=0\n",
    "        for j in range(len(x)):\n",
    "            comb_x=list(combinations(x[j],3))\n",
    "            comb_x=[set(i) for i in comb_x]\n",
    "            if(c2_set[i] in comb_x):\n",
    "                ct=ct+1\n",
    "                count[ctuple[i]]=(ct)\n",
    "    freq=[i for i in count if count[i]>=sup]\n",
    "    return freq"
   ]
  },
  {
   "cell_type": "code",
   "execution_count": 21,
   "metadata": {},
   "outputs": [],
   "source": [
    "def check_subsets(union,l1_set):\n",
    "        s = list(union)\n",
    "        pset=list(chain.from_iterable(combinations(s, r) for r in range(1,2)))\n",
    "        pset=[set(i) for i in pset]\n",
    "        return(np.all(pset) in l1_set)"
   ]
  },
  {
   "cell_type": "code",
   "execution_count": 22,
   "metadata": {},
   "outputs": [],
   "source": [
    "def count_equal(A,B):\n",
    "    count=0\n",
    "    i=3\n",
    "    for i in A:\n",
    "        for j in B:\n",
    "            if(i==j):\n",
    "                count+=1\n",
    "    return(count)"
   ]
  },
  {
   "cell_type": "code",
   "execution_count": 23,
   "metadata": {},
   "outputs": [],
   "source": [
    "def candidate_set(freq,i):\n",
    "    clist=[]\n",
    "    freq_set=[set(i) for i in freq]\n",
    "    for j in freq_set:\n",
    "            c=set([])\n",
    "            for k in freq_set:\n",
    "                if(j!=k):\n",
    "                    if(i>2):\n",
    "                        if(count_equal(j,k)>=(i-2)):\n",
    "                            if(check_subsets(j.union(k),freq_set)):\n",
    "                                if(c.union(j.union(k)) not in clist):\n",
    "                                    clist.append(c.union(j.union(k)))                           \n",
    "\n",
    "                    else:\n",
    "                        clist=list(combinations(freq,i))\n",
    "    return clist"
   ]
  },
  {
   "cell_type": "code",
   "execution_count": 24,
   "metadata": {},
   "outputs": [],
   "source": [
    "def apriori(df,sup):\n",
    "    c=c1(df)\n",
    "    lk=freq_itemset(c,sup)\n",
    "    i=2\n",
    "    l=[]\n",
    "    while(len(lk)!=0):\n",
    "        ck= candidate_set(lk,i)\n",
    "        if(i>=2):\n",
    "            lk= freq_items(ck,i,sup)\n",
    "            l.append(lk)\n",
    "        i+=1\n",
    "    return(l)"
   ]
  }
 ],
 "metadata": {
  "kernelspec": {
   "display_name": "Python 3",
   "language": "python",
   "name": "python3"
  },
  "language_info": {
   "codemirror_mode": {
    "name": "ipython",
    "version": 3
   },
   "file_extension": ".py",
   "mimetype": "text/x-python",
   "name": "python",
   "nbconvert_exporter": "python",
   "pygments_lexer": "ipython3",
   "version": "3.7.3"
  }
 },
 "nbformat": 4,
 "nbformat_minor": 2
}
